{
 "cells": [
  {
   "cell_type": "markdown",
   "id": "70e6529a",
   "metadata": {},
   "source": [
    "## Import Library"
   ]
  },
  {
   "cell_type": "code",
   "execution_count": 83,
   "id": "3dad263e",
   "metadata": {},
   "outputs": [],
   "source": [
    "from tkinter import *"
   ]
  },
  {
   "cell_type": "markdown",
   "id": "785f0dfc",
   "metadata": {},
   "source": [
    "## Creating root windows --> window utama"
   ]
  },
  {
   "cell_type": "code",
   "execution_count": 95,
   "id": "9832a8ad",
   "metadata": {},
   "outputs": [],
   "source": [
    "root = Tk()\n",
    "root.title('Uji Coba Tkinter')\n",
    "root.geometry('500x500')\n",
    "\n",
    "\n",
    "### Nanti diisi coding canvas\n",
    "\n",
    "root.mainloop()"
   ]
  },
  {
   "cell_type": "markdown",
   "id": "ba232b89",
   "metadata": {},
   "source": [
    "## Creating Widget Canvas"
   ]
  },
  {
   "cell_type": "code",
   "execution_count": 103,
   "id": "32e61a63",
   "metadata": {},
   "outputs": [],
   "source": [
    "root = Tk()\n",
    "root.title('Uji Coba Tkinter')\n",
    "root.geometry('500x500')\n",
    "\n",
    "\n",
    "canvas = Canvas(root, height = 300, width = 300, bg = 'blue')\n",
    "\n",
    "### Nanti diisi codingan gambar yang akan kita gambar\n",
    "\n",
    "canvas.pack()\n",
    "\n",
    "\n",
    "root.mainloop()\n",
    "\n"
   ]
  },
  {
   "cell_type": "markdown",
   "id": "390144f6",
   "metadata": {},
   "source": [
    "## Create Rectangle"
   ]
  },
  {
   "cell_type": "code",
   "execution_count": 104,
   "id": "dc83cdc7",
   "metadata": {},
   "outputs": [],
   "source": [
    "root = Tk()\n",
    "root.title('Uji Coba Tkinter')\n",
    "root.geometry('500x500')\n",
    "\n",
    "\n",
    "canvas = Canvas(root, height = 300, width = 300, bg = 'blue')\n",
    "\n",
    "### Disini codingan gambar yang akan kita gambar ###\n",
    "\n",
    "# Membuat rectangle\n",
    "# persegi\n",
    "rectangle = canvas.create_rectangle(150, 150, 250, 250, fill='yellow')\n",
    "# persegi panjang\n",
    "rectangle = canvas.create_rectangle(150, 150, 170, 270, fill='red')\n",
    "\n",
    "\n",
    "canvas.pack()\n",
    "root.mainloop()"
   ]
  },
  {
   "cell_type": "markdown",
   "id": "0e06c029",
   "metadata": {},
   "source": [
    "## Create Oval (circle)"
   ]
  },
  {
   "cell_type": "code",
   "execution_count": 98,
   "id": "1c07b9de",
   "metadata": {},
   "outputs": [],
   "source": [
    "root = Tk()\n",
    "root.title('Uji Coba Tkinter')\n",
    "root.geometry('500x500')\n",
    "\n",
    "\n",
    "canvas = Canvas(root, height = 300, width = 300, bg = 'blue')\n",
    "\n",
    "### Disini codingan gambar yang akan kita gambar ###\n",
    "# Membuat oval\n",
    "# lingkaran\n",
    "oval = canvas.create_oval(50, 50, 170, 170, fill='green')\n",
    "# elips\n",
    "oval = canvas.create_oval(50, 50, 200, 150, fill='red')\n",
    "\n",
    "\n",
    "\n",
    "canvas.pack()\n",
    "root.mainloop()"
   ]
  },
  {
   "cell_type": "markdown",
   "id": "d1b72f58",
   "metadata": {},
   "source": [
    "## Create Line"
   ]
  },
  {
   "cell_type": "code",
   "execution_count": 99,
   "id": "c836a839",
   "metadata": {},
   "outputs": [],
   "source": [
    "root = Tk()\n",
    "root.title('Uji Coba Tkinter')\n",
    "root.geometry('500x500')\n",
    "\n",
    "\n",
    "canvas = Canvas(root, height = 300, width = 300, bg = 'blue')\n",
    "\n",
    "### Disini codingan gambar yang akan kita gambar ###\n",
    "# Membuat garis\n",
    "# garis horizontal\n",
    "line = canvas.create_line(30, 30, 250, 30, fill='white', width = 3)\n",
    "# garis vertical\n",
    "line = canvas.create_line(30, 30, 30, 250, fill='black', width = 3)\n",
    "# garis diagonal\n",
    "line = canvas.create_line(30, 30, 250, 250, fill='#18D820', width = 3)\n",
    "\n",
    "canvas.pack()\n",
    "root.mainloop()"
   ]
  },
  {
   "cell_type": "markdown",
   "id": "4cfe4400",
   "metadata": {},
   "source": [
    "## Create Text"
   ]
  },
  {
   "cell_type": "code",
   "execution_count": 100,
   "id": "2ada42fa",
   "metadata": {},
   "outputs": [],
   "source": [
    "root = Tk()\n",
    "root.title('Uji Coba Tkinter')\n",
    "root.geometry('500x500')\n",
    "\n",
    "\n",
    "canvas = Canvas(root, height = 300, width = 300, bg = 'blue')\n",
    "\n",
    "### Disini codingan gambar yang akan kita gambar ###\n",
    "# Membuat Teks\n",
    "teks = canvas.create_text(150, 150, text = 'Uji Coba', fill='white')\n",
    "\n",
    "canvas.pack()\n",
    "root.mainloop()"
   ]
  },
  {
   "cell_type": "markdown",
   "id": "a425a9df",
   "metadata": {},
   "source": [
    "## Create Arc"
   ]
  },
  {
   "cell_type": "code",
   "execution_count": 125,
   "id": "ab5eb982",
   "metadata": {},
   "outputs": [],
   "source": [
    "root = Tk()\n",
    "root.title('Uji Coba Tkinter')\n",
    "root.geometry('500x500')\n",
    "\n",
    "\n",
    "canvas = Canvas(root, height = 300, width = 300, bg = 'blue')\n",
    "\n",
    "### Disini codingan gambar yang akan kita gambar ###\n",
    "# Membuat arc\n",
    "arc = canvas.create_arc(75, 75, 250, 250, start = 20, extent = 270, fill='Green')\n",
    "\n",
    "canvas.pack()\n",
    "root.mainloop()"
   ]
  },
  {
   "cell_type": "markdown",
   "id": "f9f129af",
   "metadata": {},
   "source": [
    "## Create All semua yang diatas"
   ]
  },
  {
   "cell_type": "code",
   "execution_count": 127,
   "id": "f2c5bffa",
   "metadata": {},
   "outputs": [],
   "source": [
    "root = Tk()\n",
    "root.title('Uji Coba Tkinter')\n",
    "root.geometry('500x500')\n",
    "\n",
    "\n",
    "canvas = Canvas(root, height = 300, width = 300, bg = 'blue')\n",
    "\n",
    "### Disini codingan gambar yang akan kita gambar ###\n",
    "\n",
    "# Membuat rectangle\n",
    "# persegi\n",
    "rectangle = canvas.create_rectangle(150, 150, 250, 250, fill='yellow')\n",
    "# persegi panjang\n",
    "rectangle = canvas.create_rectangle(150, 150, 170, 270, fill='red')\n",
    "\n",
    "# Membuat oval\n",
    "# lingkaran\n",
    "oval = canvas.create_oval(50, 50, 170, 170, fill='green')\n",
    "# elips\n",
    "oval = canvas.create_oval(50, 50, 200, 150, fill='red')\n",
    "\n",
    "# Membuat garis\n",
    "# garis horizontal\n",
    "line = canvas.create_line(30, 30, 250, 30, fill='white', width = 3)\n",
    "# garis vertical\n",
    "line = canvas.create_line(30, 30, 30, 250, fill='black', width = 3)\n",
    "# garis diagonal\n",
    "line = canvas.create_line(30, 30, 250, 250, fill='#18D820', width = 3)\n",
    "\n",
    "# Membuat arc\n",
    "arc = canvas.create_arc(75, 75, 250, 250, start = 20, extent = 270, fill='Green')\n",
    "\n",
    "# Membuat Teks\n",
    "teks = canvas.create_text(150, 150, text = 'Uji Coba', fill='white')\n",
    "\n",
    "\n",
    "canvas.pack()\n",
    "root.mainloop()"
   ]
  },
  {
   "cell_type": "markdown",
   "id": "07355c4e",
   "metadata": {},
   "source": [
    "## Membuat Smiley"
   ]
  },
  {
   "cell_type": "code",
   "execution_count": 143,
   "id": "84b9422f",
   "metadata": {},
   "outputs": [],
   "source": [
    "root = Tk()\n",
    "root.title('Smiley')\n",
    "root.geometry('500x500')\n",
    "\n",
    "\n",
    "canvas = Canvas(root, height = 300, width = 300, bg = 'blue')\n",
    "\n",
    "### Codingan Smiley\n",
    "## Muka Smiley\n",
    "oval = canvas.create_oval(50, 50, 250, 250, fill='yellow')\n",
    "## Mata Kiri Smiley\n",
    "oval = canvas.create_oval(100, 100, 125, 125, fill='black')\n",
    "## Mata Kanan Smiley\n",
    "oval = canvas.create_oval(175, 100, 200, 125, fill='black')\n",
    "## Mulut Smiley\n",
    "arc = canvas.create_arc(100, 100, 200, 200, start = 180, extent = 180, fill='white')\n",
    "\n",
    "canvas.pack()\n",
    "root.mainloop()"
   ]
  },
  {
   "cell_type": "markdown",
   "id": "5650eb0c",
   "metadata": {},
   "source": [
    "## Showing it onto screen"
   ]
  },
  {
   "cell_type": "code",
   "execution_count": 22,
   "id": "bf37d459",
   "metadata": {},
   "outputs": [],
   "source": [
    "## Harus ada di akhir kodingan\n",
    "c.pack()\n",
    "root.mainloop()"
   ]
  }
 ],
 "metadata": {
  "kernelspec": {
   "display_name": "Python 3",
   "language": "python",
   "name": "python3"
  },
  "language_info": {
   "codemirror_mode": {
    "name": "ipython",
    "version": 3
   },
   "file_extension": ".py",
   "mimetype": "text/x-python",
   "name": "python",
   "nbconvert_exporter": "python",
   "pygments_lexer": "ipython3",
   "version": "3.8.8"
  }
 },
 "nbformat": 4,
 "nbformat_minor": 5
}
